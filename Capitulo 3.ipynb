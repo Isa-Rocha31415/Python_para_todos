{
 "cells": [
  {
   "cell_type": "markdown",
   "metadata": {},
   "source": [
    " Ejecución condicional: "
   ]
  },
  {
   "cell_type": "code",
   "execution_count": 2,
   "metadata": {},
   "outputs": [
    {
     "name": "stdout",
     "output_type": "stream",
     "text": [
      "Pequeño\n"
     ]
    }
   ],
   "source": [
    "x = 3\n",
    "if x < 10:\n",
    "    print('Pequeño')"
   ]
  },
  {
   "cell_type": "markdown",
   "metadata": {},
   "source": [
    "Ejecución alternativa"
   ]
  },
  {
   "cell_type": "code",
   "execution_count": 9,
   "metadata": {},
   "outputs": [
    {
     "name": "stdout",
     "output_type": "stream",
     "text": [
      "x es impar\n"
     ]
    }
   ],
   "source": [
    "if x%2 == 0 :\n",
    "    print('x es par')\n",
    "else :\n",
    "    print('x es impar')"
   ]
  },
  {
   "cell_type": "markdown",
   "metadata": {},
   "source": [
    "Condicionales encadenados\n"
   ]
  },
  {
   "cell_type": "code",
   "execution_count": 17,
   "metadata": {},
   "outputs": [
    {
     "name": "stdout",
     "output_type": "stream",
     "text": [
      "x es menor que y\n"
     ]
    }
   ],
   "source": [
    "x=10\n",
    "y=20\n",
    "if x < y:\n",
    "    print('x es menor que y')\n",
    "elif x > y:\n",
    "    print('x es mayor que y')\n",
    "else:\n",
    "    print('x e y son iguales')\n"
   ]
  },
  {
   "cell_type": "code",
   "execution_count": null,
   "metadata": {},
   "outputs": [],
   "source": [
    "Condicionales anidados"
   ]
  },
  {
   "cell_type": "code",
   "execution_count": 20,
   "metadata": {},
   "outputs": [
    {
     "name": "stdout",
     "output_type": "stream",
     "text": [
      "x es menor que y\n"
     ]
    }
   ],
   "source": [
    "if x == y:\n",
    "    print('x e y son iguales')\n",
    "else:\n",
    "    if x < y:\n",
    "        print('x es menor que y')\n",
    "    else:\n",
    "        print('x es mayor que y')"
   ]
  },
  {
   "cell_type": "code",
   "execution_count": 23,
   "metadata": {},
   "outputs": [
    {
     "name": "stdout",
     "output_type": "stream",
     "text": [
      "Introduzca la Temperatura Fahrenheit:d\n",
      "Por favor, introduzca un número\n"
     ]
    }
   ],
   "source": [
    "ent = input('Introduzca la Temperatura Fahrenheit:')\n",
    "try:\n",
    "    fahr = float(ent)\n",
    "    cel = (fahr - 32.0) * 5.0 / 9.0\n",
    "    print(cel)\n",
    "except:\n",
    "    print('Por favor, introduzca un número')"
   ]
  },
  {
   "cell_type": "markdown",
   "metadata": {},
   "source": [
    "1. Reescribe el programa del cálculo del salario para darle al empleado 1.5 veces la tarifa horaria para todas las horas trabajadas que excedan de 40."
   ]
  },
  {
   "cell_type": "code",
   "execution_count": 53,
   "metadata": {},
   "outputs": [
    {
     "name": "stdout",
     "output_type": "stream",
     "text": [
      "Horas trabajadas\n",
      "10\n",
      "Tarifa de horas trabajadas\n",
      "12\n",
      "El saliario Bruto es 120.0\n"
     ]
    }
   ],
   "source": [
    "horas = input (\"Horas trabajadas\\n\")\n",
    "horas = float(horas)\n",
    "tarifa = input (\"Tarifa de horas trabajadas\\n\")\n",
    "tarifa = float(tarifa)\n",
    "\n",
    "if horas > 40:\n",
    "    salarioNew = 40 * tarifa\n",
    "    Hora1 = (horas - 40)* 1.5 * tarifa\n",
    "    salarioBru = salarioNew + Hora1\n",
    "    print(\"El salario es\", salarioBru)\n",
    "else:\n",
    "    salario = horas * tarifa\n",
    "    print(\"El saliario Bruto es\", salario)"
   ]
  },
  {
   "cell_type": "markdown",
   "metadata": {},
   "source": [
    "2. Reescribe el programa del salario usando try y except, de modo que el programa sea capaz de gestionar entradas no numéricas con elegancia, mostrando un mensaje y saliendo del programa. A continuación se muestran dos ejecuciones del programa:\n",
    "- Introduzca las Horas: 20\n",
    "- Introduzca la Tarifa por hora: nueve\n",
    "- Error, por favor introduzca un número\n",
    "- Introduzca las Horas: cuarenta\n",
    "- Error, por favor introduzca un número"
   ]
  },
  {
   "cell_type": "code",
   "execution_count": 2,
   "metadata": {},
   "outputs": [
    {
     "name": "stdout",
     "output_type": "stream",
     "text": [
      "Horas trabajadas\n",
      "89\n",
      "Tarifa de horas trabajadas\n",
      "9\n",
      "El saliario Bruto es 801.0\n"
     ]
    }
   ],
   "source": [
    "horas = input (\"Horas trabajadas\\n\")\n",
    "try:\n",
    "    horas = float(horas)\n",
    "    tarifa = input (\"Tarifa de horas trabajadas\\n\")\n",
    "    tarifa = float(tarifa)\n",
    "    salario = horas * tarifa\n",
    "    print( \"El saliario Bruto es\",salario) \n",
    "except:\n",
    "    print(\"Error, por favor introduzca un número\")\n",
    "\n"
   ]
  },
  {
   "cell_type": "markdown",
   "metadata": {},
   "source": [
    "3. Escribe un programa que solicite una puntuación entre 0.0 y 1.0. Si la puntuación está fuera de ese rango, muestra un mensaje de error. Si la puntuación está entre 0.0 y 1.0, muestra la calificación usando la tabla siguiente:\n",
    "Puntuación Calificación\n",
    "- \">= 0.9 Sobresaliente\"\n",
    "- \">= 0.8 Notable\"\n",
    "- \">= 0.7 Bien\"\n",
    "- \">= 0.6 Suficiente\"\n",
    "- \"< 0.6 Insuficiente\""
   ]
  },
  {
   "cell_type": "code",
   "execution_count": 1,
   "metadata": {},
   "outputs": [
    {
     "name": "stdout",
     "output_type": "stream",
     "text": [
      "Escribe una puntuación del 0.0 al 1.0\n",
      "3\n",
      "Sobresaliente\n",
      "Notable\n",
      "Bien\n",
      "Suficiente\n"
     ]
    }
   ],
   "source": [
    "Puntuacion = input (\"Escribe una puntuación del 0.0 al 1.0\\n\")\n",
    "try:\n",
    "    Puntuacion = float (Puntuacion)\n",
    "    if Puntuacion >= 0.9:\n",
    "        print(\"Sobresaliente\")\n",
    "    \n",
    "    if Puntuacion >= 0.8:\n",
    "        print(\"Notable\")\n",
    "    \n",
    "    if Puntuacion >= 0.7:\n",
    "        print(\"Bien\")\n",
    "    \n",
    "    if Puntuacion >= 0.6:\n",
    "        print(\"Suficiente\")\n",
    "    \n",
    "    if Puntuacion < 0.6:\n",
    "        print(\"Insuficiente\")\n",
    "except:\n",
    "    print(\"Puntuación incorrecta\")"
   ]
  },
  {
   "cell_type": "code",
   "execution_count": 88,
   "metadata": {},
   "outputs": [
    {
     "data": {
      "text/plain": [
       "int"
      ]
     },
     "execution_count": 88,
     "metadata": {},
     "output_type": "execute_result"
    }
   ],
   "source": [
    "type(32)"
   ]
  },
  {
   "cell_type": "code",
   "execution_count": 89,
   "metadata": {},
   "outputs": [
    {
     "data": {
      "text/plain": [
       "'¡'"
      ]
     },
     "execution_count": 89,
     "metadata": {},
     "output_type": "execute_result"
    }
   ],
   "source": [
    "max('¡Hola, mundo!')\n"
   ]
  },
  {
   "cell_type": "code",
   "execution_count": 90,
   "metadata": {},
   "outputs": [
    {
     "data": {
      "text/plain": [
       "' '"
      ]
     },
     "execution_count": 90,
     "metadata": {},
     "output_type": "execute_result"
    }
   ],
   "source": [
    "min('¡Hola, mundo!')"
   ]
  },
  {
   "cell_type": "code",
   "execution_count": null,
   "metadata": {},
   "outputs": [],
   "source": []
  }
 ],
 "metadata": {
  "kernelspec": {
   "display_name": "Python 3",
   "language": "python",
   "name": "python3"
  },
  "language_info": {
   "codemirror_mode": {
    "name": "ipython",
    "version": 3
   },
   "file_extension": ".py",
   "mimetype": "text/x-python",
   "name": "python",
   "nbconvert_exporter": "python",
   "pygments_lexer": "ipython3",
   "version": "3.8.5"
  }
 },
 "nbformat": 4,
 "nbformat_minor": 4
}
