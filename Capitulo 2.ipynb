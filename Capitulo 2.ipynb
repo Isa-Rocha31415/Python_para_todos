{
 "cells": [
  {
   "cell_type": "markdown",
   "metadata": {},
   "source": [
    "1. Escribe un programa que use input para pedirle al usuario su nombre y luego darle la bienvenida."
   ]
  },
  {
   "cell_type": "code",
   "execution_count": 2,
   "metadata": {},
   "outputs": [
    {
     "name": "stdout",
     "output_type": "stream",
     "text": [
      "¿Cual es tu nombre?\n",
      "isa\n",
      "Bienvenid@ isa\n"
     ]
    }
   ],
   "source": [
    "nombre = input(\"¿Cual es tu nombre?\\n\")\n",
    "print(\"Bienvenid@\",nombre)"
   ]
  },
  {
   "cell_type": "markdown",
   "metadata": {},
   "source": [
    "3. Escribe un programa para pedirle al usuario el número de horas y la tarifa por hora para calcular el salario bruto."
   ]
  },
  {
   "cell_type": "code",
   "execution_count": null,
   "metadata": {},
   "outputs": [],
   "source": [
    "horas = input (\"Horas trabajadas\\n\")\n",
    "horas = float(horas)\n",
    "tarifa = input (\"Tarifa de horas trabajadas\\n\")\n",
    "tarifa = float(tarifa)\n",
    "salario = horas * tarifa\n",
    "print( \"El saliario Bruto es\",salario) "
   ]
  },
  {
   "cell_type": "markdown",
   "metadata": {},
   "source": [
    "4. Asume que ejecutamos las siguientes sentencias de asignación:"
   ]
  },
  {
   "cell_type": "code",
   "execution_count": null,
   "metadata": {},
   "outputs": [],
   "source": [
    "ancho = 17\n",
    "alto = 12\n",
    "\n",
    "uno =  float (ancho/2)\n",
    "print (uno)\n",
    "\n",
    "dos = float (ancho/2.00)\n",
    "print(dos)\n",
    "\n",
    "tres = float (alto/3)\n",
    "print(tres)\n",
    "\n",
    "cuatro =  int (1 + 2 * 5)\n",
    "print(cuatro)"
   ]
  },
  {
   "cell_type": "markdown",
   "metadata": {},
   "source": [
    "5. Escribe un programa que le pida al usuario una temperatura en grados Celsius, la convierta a grados Fahrenheit e imprima por pantalla la temperatura convertida."
   ]
  },
  {
   "cell_type": "code",
   "execution_count": null,
   "metadata": {},
   "outputs": [],
   "source": [
    "gradosC = input (\"Ingrese los grados Celcius\\n\")\n",
    "gradosC = float (gradosC)\n",
    "gradosF = gradosC * 33.8\n",
    "print(gradosF)"
   ]
  }
 ],
 "metadata": {
  "kernelspec": {
   "display_name": "Python 3",
   "language": "python",
   "name": "python3"
  },
  "language_info": {
   "codemirror_mode": {
    "name": "ipython",
    "version": 3
   },
   "file_extension": ".py",
   "mimetype": "text/x-python",
   "name": "python",
   "nbconvert_exporter": "python",
   "pygments_lexer": "ipython3",
   "version": "3.8.5"
  }
 },
 "nbformat": 4,
 "nbformat_minor": 4
}
