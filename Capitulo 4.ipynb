{
 "cells": [
  {
   "cell_type": "code",
   "execution_count": 6,
   "metadata": {},
   "outputs": [
    {
     "name": "stdout",
     "output_type": "stream",
     "text": [
      "0.6100911180201796\n",
      "0.8434318959869013\n",
      "0.6080610612799723\n",
      "0.19615282226750896\n",
      "0.12037812852883134\n",
      "0.48037591159482707\n",
      "0.0793543166423123\n",
      "0.26889989381892154\n",
      "0.4353809607476221\n",
      "0.169805058338665\n"
     ]
    }
   ],
   "source": [
    "import random\n",
    "for i in range(10):\n",
    "    x = random.random()\n",
    "    print(x)"
   ]
  },
  {
   "cell_type": "markdown",
   "metadata": {},
   "source": [
    "1. Ejecuta el programa en tu sistema y observa que numeros obtienes."
   ]
  },
  {
   "cell_type": "code",
   "execution_count": 7,
   "metadata": {},
   "outputs": [
    {
     "data": {
      "text/plain": [
       "5"
      ]
     },
     "execution_count": 7,
     "metadata": {},
     "output_type": "execute_result"
    }
   ],
   "source": [
    "import random\n",
    "random.randint(5, 10)"
   ]
  },
  {
   "cell_type": "code",
   "execution_count": 16,
   "metadata": {},
   "outputs": [
    {
     "data": {
      "text/plain": [
       "2"
      ]
     },
     "execution_count": 16,
     "metadata": {},
     "output_type": "execute_result"
    }
   ],
   "source": [
    "t = [1, 2, 3]\n",
    "random.choice(t)"
   ]
  },
  {
   "cell_type": "code",
   "execution_count": 22,
   "metadata": {},
   "outputs": [
    {
     "name": "stdout",
     "output_type": "stream",
     "text": [
      "Soy un leñador, qué alegría.\n",
      "Duermo toda la noche y trabajo todo el día.\n",
      "Soy un leñador, qué alegría.\n",
      "Duermo toda la noche y trabajo todo el día.\n"
     ]
    }
   ],
   "source": [
    "def muestra_estribillo(): #funcion 1\n",
    "    print ('Soy un leñador, qué alegría.')\n",
    "    print ('Duermo toda la noche y trabajo todo el día.')\n",
    "    \n",
    "def repite_estribillo(): #funcion 2\n",
    "    muestra_estribillo()\n",
    "    muestra_estribillo()\n",
    "    \n",
    "repite_estribillo()\n",
    "\n"
   ]
  },
  {
   "cell_type": "markdown",
   "metadata": {},
   "source": [
    "2. Desplaza la última línea del programa anterior hacia arriba, de modo que la llamada a la función aparezca antes que las definiciones. Ejecuta el programa y observa qué mensaje de error obtienes."
   ]
  },
  {
   "cell_type": "code",
   "execution_count": 22,
   "metadata": {},
   "outputs": [
    {
     "ename": "NameError",
     "evalue": "name 'repite_estribillo' is not defined",
     "output_type": "error",
     "traceback": [
      "\u001b[1;31m---------------------------------------------------------------------------\u001b[0m",
      "\u001b[1;31mNameError\u001b[0m                                 Traceback (most recent call last)",
      "\u001b[1;32m<ipython-input-22-0a1f40622994>\u001b[0m in \u001b[0;36m<module>\u001b[1;34m\u001b[0m\n\u001b[1;32m----> 1\u001b[1;33m \u001b[0mrepite_estribillo\u001b[0m\u001b[1;33m(\u001b[0m\u001b[1;33m)\u001b[0m\u001b[1;33m\u001b[0m\u001b[1;33m\u001b[0m\u001b[0m\n\u001b[0m\u001b[0;32m      2\u001b[0m \u001b[1;33m\u001b[0m\u001b[0m\n\u001b[0;32m      3\u001b[0m \u001b[1;32mdef\u001b[0m \u001b[0mmuestra_estribillo\u001b[0m\u001b[1;33m(\u001b[0m\u001b[1;33m)\u001b[0m\u001b[1;33m:\u001b[0m \u001b[1;31m#funcion 1\u001b[0m\u001b[1;33m\u001b[0m\u001b[1;33m\u001b[0m\u001b[0m\n\u001b[0;32m      4\u001b[0m     \u001b[0mprint\u001b[0m \u001b[1;33m(\u001b[0m\u001b[1;34m'Soy un leñador, qué alegría.'\u001b[0m\u001b[1;33m)\u001b[0m\u001b[1;33m\u001b[0m\u001b[1;33m\u001b[0m\u001b[0m\n\u001b[0;32m      5\u001b[0m     \u001b[0mprint\u001b[0m \u001b[1;33m(\u001b[0m\u001b[1;34m'Duermo toda la noche y trabajo todo el día.'\u001b[0m\u001b[1;33m)\u001b[0m\u001b[1;33m\u001b[0m\u001b[1;33m\u001b[0m\u001b[0m\n",
      "\u001b[1;31mNameError\u001b[0m: name 'repite_estribillo' is not defined"
     ]
    }
   ],
   "source": [
    "repite_estribillo() \n",
    "\n",
    "def muestra_estribillo(): #funcion 1\n",
    "    print ('Soy un leñador, qué alegría.')\n",
    "    print ('Duermo toda la noche y trabajo todo el día.')\n",
    "    \n",
    "def repite_estribillo(): #funcion 2\n",
    "    muestra_estribillo()\n",
    "    muestra_estribillo()"
   ]
  },
  {
   "cell_type": "markdown",
   "metadata": {},
   "source": [
    "3. Desplaza la llamada de la función de nuevo hacia el final, y coloca la definición de muestra_estribillo después de la definición de repite_estribillo. ¿Qué ocurre cuando haces funcionar ese programa?"
   ]
  },
  {
   "cell_type": "code",
   "execution_count": 29,
   "metadata": {},
   "outputs": [
    {
     "name": "stdout",
     "output_type": "stream",
     "text": [
      "Soy un leñador, qué alegría.\n",
      "Duermo toda la noche y trabajo todo el día.\n"
     ]
    }
   ],
   "source": [
    "def repite_estribillo(): #funcion 2\n",
    "    muestra_estribillo()\n",
    "    muestra_estribillo()\n",
    "    \n",
    "def muestra_estribillo(): #funcion 1\n",
    "    print ('Soy un leñador, qué alegría.')\n",
    "    print ('Duermo toda la noche y trabajo todo el día.')\n",
    "    \n",
    "    \n",
    "repite_estribillo()\n",
    "\n"
   ]
  },
  {
   "cell_type": "code",
   "execution_count": 30,
   "metadata": {},
   "outputs": [
    {
     "name": "stdout",
     "output_type": "stream",
     "text": [
      "Spam\n",
      "Spam\n"
     ]
    }
   ],
   "source": [
    "def muestra_dos_veces(bruce):\n",
    "    print(bruce)\n",
    "    print(bruce)\n",
    "muestra_dos_veces('Spam')"
   ]
  },
  {
   "cell_type": "markdown",
   "metadata": {},
   "source": [
    "6. Reescribe el programa de cálculo del salario, con tarifa-y media para las horas extras, y crea una función llamada calculo_salario que reciba dos parámetros (horas y tarifa)."
   ]
  },
  {
   "cell_type": "code",
   "execution_count": 21,
   "metadata": {},
   "outputs": [
    {
     "name": "stdout",
     "output_type": "stream",
     "text": [
      "Horas trabajadas:23\n",
      "Tarifa:78\n",
      "145.0\n"
     ]
    }
   ],
   "source": [
    "def calculo_salario(hora,tarifa):\n",
    "    if horas > 40:\n",
    "        pay = 40*tarifa + (hora - 40)*(tarifa*1.5)\n",
    "    else:\n",
    "        pay = horas * tarifa\n",
    "    p = float(pay)\n",
    "    return p\n",
    "\n",
    "hrs =input(\"Horas trabajadas:\")\n",
    "hora = float(hrs)\n",
    "tar = input(\"Tarifa:\")\n",
    "print(calculo_salario(hora,tarifa))"
   ]
  },
  {
   "cell_type": "markdown",
   "metadata": {},
   "source": [
    "7. Reescribe el programa de calificaciones del capítulo anterior usando  una función llamada calcula_calificacion, que reciba una puntuación como parámetro y devuelva una calificación como cadena."
   ]
  },
  {
   "cell_type": "code",
   "execution_count": 35,
   "metadata": {
    "scrolled": true
   },
   "outputs": [
    {
     "name": "stdout",
     "output_type": "stream",
     "text": [
      "Coloque puntuación: 0.7\n",
      "Bien\n"
     ]
    }
   ],
   "source": [
    "def calcular_calificacion(puntuacion):\n",
    "    if puntuacion >= 0.9:\n",
    "        return \"Sobresaliente\"\n",
    "    \n",
    "    if puntuacion >= 0.8:\n",
    "        return \"Notable\"\n",
    "    \n",
    "    if puntuacion >= 0.7:\n",
    "        return \"Bien\"\n",
    "    \n",
    "    if puntuacion >= 0.6:\n",
    "        return \"Suficiente\"\n",
    "    \n",
    "    if puntuacion < 0.6:\n",
    "        return \"Insuficiente\"\n",
    "            \n",
    "punt = input(\"Coloque puntuación: \")\n",
    "puntuacion = float(punt)\n",
    "print(calcular_calificacion(puntuacion))\n"
   ]
  }
 ],
 "metadata": {
  "kernelspec": {
   "display_name": "Python 3",
   "language": "python",
   "name": "python3"
  },
  "language_info": {
   "codemirror_mode": {
    "name": "ipython",
    "version": 3
   },
   "file_extension": ".py",
   "mimetype": "text/x-python",
   "name": "python",
   "nbconvert_exporter": "python",
   "pygments_lexer": "ipython3",
   "version": "3.8.5"
  }
 },
 "nbformat": 4,
 "nbformat_minor": 4
}
